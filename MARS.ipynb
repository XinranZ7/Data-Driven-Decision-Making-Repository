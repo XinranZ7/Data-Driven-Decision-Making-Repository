{
 "cells": [
  {
   "cell_type": "code",
   "execution_count": null,
   "id": "ab36f4ea",
   "metadata": {},
   "outputs": [],
   "source": [
    "# Import libraries and dataset\n",
    "from pyearth import Earth\n",
    "import pandas as pd\n",
    "\n",
    "ames = pd.read_csv('ames.csv')"
   ]
  },
  {
   "cell_type": "code",
   "execution_count": null,
   "id": "25b9bb5e",
   "metadata": {},
   "outputs": [],
   "source": [
    "# Fit a basic MARS model\n",
    "mars1 = Earth().fit(ames.drop('Sale_Price', axis=1), ames['Sale_Price'])\n",
    "print(mars1.summary())\n",
    "print(mars1.coef_[:10])\n",
    "mars1.plot_partial(0)\n",
    "print(mars1.summary_feature_importances())"
   ]
  },
  {
   "cell_type": "code",
   "execution_count": null,
   "id": "7d4c2f37",
   "metadata": {},
   "outputs": [],
   "source": [
    "# Fit a basic MARS model with quadratic terms\n",
    "mars2 = Earth(max_degree=2).fit(ames.drop('Sale_Price', axis=1), ames['Sale_Price'])\n",
    "print(mars2.summary())\n",
    "print(mars2.coef_[:10])\n",
    "mars2.plot_partial(0)\n",
    "print(mars2.summary_feature_importances())"
   ]
  }
 ],
 "metadata": {
  "kernelspec": {
   "display_name": "Python 3 (ipykernel)",
   "language": "python",
   "name": "python3"
  },
  "language_info": {
   "codemirror_mode": {
    "name": "ipython",
    "version": 3
   },
   "file_extension": ".py",
   "mimetype": "text/x-python",
   "name": "python",
   "nbconvert_exporter": "python",
   "pygments_lexer": "ipython3",
   "version": "3.10.6"
  }
 },
 "nbformat": 4,
 "nbformat_minor": 5
}
