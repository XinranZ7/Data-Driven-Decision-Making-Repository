{
 "cells": [
  {
   "cell_type": "code",
   "execution_count": 1,
   "id": "d69084e2",
   "metadata": {},
   "outputs": [],
   "source": [
    "import math\n",
    "import numpy as np\n",
    "from scipy.special import expit\n",
    "from scipy.special import logit"
   ]
  },
  {
   "cell_type": "code",
   "execution_count": 2,
   "id": "0d1d08be",
   "metadata": {},
   "outputs": [
    {
     "name": "stdout",
     "output_type": "stream",
     "text": [
      "logit of 0: 0.5\n",
      "logit of -Inf: 0.0\n",
      "logit of 2: 0.8807970779778823\n",
      "logit of -0.2: 0.45016600268752216\n"
     ]
    }
   ],
   "source": [
    "# Calculate the inverse logit of 0, -Inf, 2, and -0.2\n",
    "print('logit of 0:',math.exp(0) / (math.exp(0) + 1))    # equivalent to plogis()\n",
    "print('logit of -Inf:',expit(-np.inf))                  # infinite dispreference = likelihood 0\n",
    "print('logit of 2:',expit(2))                           # moderate preference = 88% chance (e.g., of purchase)\n",
    "print('logit of -0.2:',expit(-0.2))                     # weak dispreference"
   ]
  },
  {
   "cell_type": "code",
   "execution_count": 3,
   "id": "d49d1948",
   "metadata": {},
   "outputs": [
    {
     "name": "stdout",
     "output_type": "stream",
     "text": [
      "Logit of 0.5: 0.0\n",
      "Logit of 0.88: 1.9924301646902063\n",
      "Logit of 0.88: 1.9924301646902063\n"
     ]
    }
   ],
   "source": [
    "# Calculate the logit of 0.5 and 0.88\n",
    "print('Logit of 0.5:',math.log(0.5 / (1-0.5)))       # indifference = 50% likelihood = 0 utility\n",
    "print('Logit of 0.88:',math.log(0.88 / (1-0.88)))    # moderate high likelihood\n",
    "print('Logit of 0.88:',logit(0.88))                  # equivalent to hand computation"
   ]
  },
  {
   "cell_type": "code",
   "execution_count": 4,
   "id": "4d557bd4",
   "metadata": {},
   "outputs": [],
   "source": [
    "import pandas as pd\n",
    "import statsmodels.api as sm\n",
    "import statsmodels.formula.api as smf\n",
    "import seaborn as sns"
   ]
  },
  {
   "cell_type": "code",
   "execution_count": 5,
   "id": "fbc2ed1f",
   "metadata": {},
   "outputs": [],
   "source": [
    "#Retrieve the amusement park dataset\n",
    "url = \"http://goo.gl/J8MH6A\"\n",
    "pass_df = pd.read_csv(url)"
   ]
  },
  {
   "cell_type": "code",
   "execution_count": 6,
   "id": "e46b8770",
   "metadata": {},
   "outputs": [
    {
     "name": "stdout",
     "output_type": "stream",
     "text": [
      "                         Generalized Linear Model Regression Results                         \n",
      "=============================================================================================\n",
      "Dep. Variable:     ['Pass[NoPass]', 'Pass[YesPass]']   No. Observations:                 3156\n",
      "Model:                                           GLM   Df Residuals:                     3154\n",
      "Model Family:                               Binomial   Df Model:                            1\n",
      "Link Function:                                 Logit   Scale:                          1.0000\n",
      "Method:                                         IRLS   Log-Likelihood:                -2172.7\n",
      "Date:                               Thu, 23 Mar 2023   Deviance:                       4345.4\n",
      "Time:                                       19:02:03   Pearson chi2:                 3.16e+03\n",
      "No. Iterations:                                    4   Pseudo R-squ. (CS):           0.009324\n",
      "Covariance Type:                           nonrobust                                         \n",
      "=====================================================================================\n",
      "                        coef    std err          z      P>|z|      [0.025      0.975]\n",
      "-------------------------------------------------------------------------------------\n",
      "Intercept            -0.1966      0.049     -4.002      0.000      -0.293      -0.100\n",
      "Promo[T.NoBundle]     0.3888      0.072      5.425      0.000       0.248       0.529\n",
      "=====================================================================================\n"
     ]
    }
   ],
   "source": [
    "# Change the data type of the 'Pass' column to categorical\n",
    "pass_df[\"Pass\"] = pd.Categorical(pass_df[\"Pass\"])\n",
    "\n",
    "# Build the logistic regression model to predict the probability of getting a pass\n",
    "pass_m = smf.glm(formula='Pass ~ Promo', data=pass_df, family=sm.families.Binomial()).fit()\n",
    "print(pass_m.summary())"
   ]
  },
  {
   "cell_type": "code",
   "execution_count": 7,
   "id": "1031b48a",
   "metadata": {},
   "outputs": [
    {
     "name": "stdout",
     "output_type": "stream",
     "text": [
      "The odds ratio of the predictor:\n",
      " 1.475196204408425\n",
      "The confidence interval for the odds ratio:\n",
      "                        2.5%     97.5%  Odds ratio\n",
      "Intercept         -0.292839 -0.100298    0.821545\n",
      "Promo[T.NoBundle]  0.248319  0.529263    1.475196\n"
     ]
    }
   ],
   "source": [
    "#Compute the odds ratio\n",
    "odds_ratio = np.exp(pass_m.params[1])\n",
    "print('The odds ratio of the predictor:\\n',odds_ratio)\n",
    "\n",
    "ci = pass_m.conf_int()\n",
    "ci['Odds ratio'] = np.exp(pass_m.params)\n",
    "ci.columns = ['2.5%', '97.5%', 'Odds ratio']\n",
    "print('The confidence interval for the odds ratio:\\n', ci)"
   ]
  },
  {
   "cell_type": "code",
   "execution_count": 8,
   "id": "6ee55ab5",
   "metadata": {},
   "outputs": [
    {
     "name": "stdout",
     "output_type": "stream",
     "text": [
      "Channel  Email  Mail  Park\n",
      "Pass                      \n",
      "NoPass     568   727   272\n",
      "YesPass     65   601   923\n"
     ]
    }
   ],
   "source": [
    "# Compute the contingency table of Pass vs Channel\n",
    "ct = pd.crosstab(pass_df['Pass'], pass_df['Channel'])\n",
    "print(ct)"
   ]
  },
  {
   "cell_type": "markdown",
   "id": "4b4d1a6e",
   "metadata": {},
   "source": [
    "from vcd import AssocMeasures\n",
    "from vcd import double_decker"
   ]
  },
  {
   "cell_type": "code",
   "execution_count": 9,
   "id": "f3867d4b",
   "metadata": {},
   "outputs": [
    {
     "data": {
      "text/plain": [
       "<AxesSubplot:xlabel='Channel', ylabel='Pass'>"
      ]
     },
     "execution_count": 9,
     "metadata": {},
     "output_type": "execute_result"
    },
    {
     "data": {
      "image/png": "[encoded data removed]",
      "text/plain": [
       "<Figure size 640x480 with 1 Axes>"
      ]
     },
     "metadata": {},
     "output_type": "display_data"
    }
   ],
   "source": [
    "# Visualize the contingency table using a double-decker plot\n",
    "sns.heatmap(ct, cmap='coolwarm', annot=True, cbar=False)"
   ]
  },
  {
   "cell_type": "code",
   "execution_count": 10,
   "id": "c35c04b6",
   "metadata": {},
   "outputs": [],
   "source": [
    "# Encode the predictor variable as a numeric variable\n",
    "pass_df['Pass'] = pd.factorize(pass_df['Pass'])[0]"
   ]
  },
  {
   "cell_type": "code",
   "execution_count": 11,
   "id": "7ee494b7",
   "metadata": {},
   "outputs": [
    {
     "name": "stdout",
     "output_type": "stream",
     "text": [
      "Optimization terminated successfully.\n",
      "         Current function value: 0.552948\n",
      "         Iterations 6\n",
      "                           Logit Regression Results                           \n",
      "==============================================================================\n",
      "Dep. Variable:                   Pass   No. Observations:                 3156\n",
      "Model:                          Logit   Df Residuals:                     3152\n",
      "Method:                           MLE   Df Model:                            3\n",
      "Date:                Thu, 23 Mar 2023   Pseudo R-squ.:                  0.2022\n",
      "Time:                        19:02:03   Log-Likelihood:                -1745.1\n",
      "converged:                       True   LL-Null:                       -2187.5\n",
      "Covariance Type:            nonrobust   LLR p-value:                1.769e-191\n",
      "=====================================================================================\n",
      "                        coef    std err          z      P>|z|      [0.025      0.975]\n",
      "-------------------------------------------------------------------------------------\n",
      "Intercept             2.6388      0.153     17.257      0.000       2.339       2.939\n",
      "Promo[T.NoBundle]    -0.5602      0.090     -6.203      0.000      -0.737      -0.383\n",
      "Channel[T.Mail]      -2.1762      0.147    -14.853      0.000      -2.463      -1.889\n",
      "Channel[T.Park]      -3.7218      0.160    -23.312      0.000      -4.035      -3.409\n",
      "=====================================================================================\n",
      "Promo[T.NoBundle]    0.571085\n",
      "Channel[T.Mail]      0.113475\n",
      "Channel[T.Park]      0.024191\n",
      "dtype: float64\n",
      "                       2.5%     97.5%  Odds ratio\n",
      "Intercept          2.339112  2.938522   13.996632\n",
      "Promo[T.NoBundle] -0.737229 -0.383207    0.571085\n",
      "Channel[T.Mail]   -2.463342 -1.889002    0.113475\n",
      "Channel[T.Park]   -4.034667 -3.408855    0.024191\n"
     ]
    }
   ],
   "source": [
    "# Build another logistic regression model to predict the probability of getting a pass \n",
    "# based on whether or not the customer was offered a promotion and the channel\n",
    "pass_m2 = sm.formula.logit(\"Pass ~ Promo + Channel\", data=pass_df).fit() \n",
    "print(pass_m2.summary())\n",
    "\n",
    "# Compute the odds ratio of getting a pass when the customer was offered a promotion\n",
    "# compared to when the customer was not offered a promotion for each channel\n",
    "odds_ratio = np.exp(pass_m2.params[1:])\n",
    "print(odds_ratio)\n",
    "\n",
    "# Compute the confidence interval for the odds ratio\n",
    "ci = pass_m2.conf_int()\n",
    "ci['Odds ratio'] = np.exp(pass_m2.params)\n",
    "ci.columns = ['2.5%', '97.5%', 'Odds ratio']\n",
    "print(ci)"
   ]
  },
  {
   "cell_type": "code",
   "execution_count": 12,
   "id": "c7aa8f40",
   "metadata": {},
   "outputs": [
    {
     "name": "stdout",
     "output_type": "stream",
     "text": [
      "Optimization terminated successfully.\n",
      "         Current function value: 0.537634\n",
      "         Iterations 7\n",
      "                           Logit Regression Results                           \n",
      "==============================================================================\n",
      "Dep. Variable:                   Pass   No. Observations:                 3156\n",
      "Model:                          Logit   Df Residuals:                     3150\n",
      "Method:                           MLE   Df Model:                            5\n",
      "Date:                Thu, 23 Mar 2023   Pseudo R-squ.:                  0.2243\n",
      "Time:                        19:02:03   Log-Likelihood:                -1696.8\n",
      "converged:                       True   LL-Null:                       -2187.5\n",
      "Covariance Type:            nonrobust   LLR p-value:                6.252e-210\n",
      "=====================================================================================================\n",
      "                                        coef    std err          z      P>|z|      [0.025      0.975]\n",
      "-----------------------------------------------------------------------------------------------------\n",
      "Intercept                             0.7813      0.196      3.989      0.000       0.397       1.165\n",
      "Promo[T.NoBundle]                     2.1071      0.278      7.571      0.000       1.562       2.653\n",
      "Channel[T.Mail]                      -0.1632      0.211     -0.772      0.440      -0.578       0.251\n",
      "Channel[T.Park]                      -1.8340      0.211     -8.702      0.000      -2.247      -1.421\n",
      "Promo[T.NoBundle]:Channel[T.Mail]    -2.9808      0.300     -9.925      0.000      -3.570      -2.392\n",
      "Promo[T.NoBundle]:Channel[T.Park]    -2.8115      0.328     -8.577      0.000      -3.454      -2.169\n",
      "=====================================================================================================\n",
      "Promo[T.NoBundle]                    8.224007\n",
      "Channel[T.Mail]                      0.849447\n",
      "Channel[T.Park]                      0.159775\n",
      "Promo[T.NoBundle]:Channel[T.Mail]    0.050750\n",
      "Promo[T.NoBundle]:Channel[T.Park]    0.060116\n",
      "dtype: float64\n",
      "                                       2.5%     97.5%  Odds ratio\n",
      "Intercept                          0.397362  1.165147    2.184211\n",
      "Promo[T.NoBundle]                  1.561557  2.652558    8.224007\n",
      "Channel[T.Mail]                   -0.577661  0.251322    0.849447\n",
      "Channel[T.Park]                   -2.247039 -1.420936    0.159775\n",
      "Promo[T.NoBundle]:Channel[T.Mail] -3.569502 -2.392186    0.050750\n",
      "Promo[T.NoBundle]:Channel[T.Park] -3.453921 -2.169037    0.060116\n"
     ]
    }
   ],
   "source": [
    "# Build another logistic regression model to predict the probability of getting a pass\n",
    "# based on whether or not the customer was offered a promotion, the channel, and the interaction between the promotion and the channel\n",
    "pass_m3 = sm.formula.logit(\"Pass ~ Promo + Channel + Promo:Channel\", data=pass_df).fit()\n",
    "print(pass_m3.summary())\n",
    "\n",
    "# Compute the odds ratio of getting a pass when the customer was offered a promotion\n",
    "# compared to when the customer was not offered a promotion for each channel\n",
    "odds_ratio = np.exp(pass_m3.params[1:])\n",
    "print(odds_ratio)\n",
    "\n",
    "# Compute the confidence interval for the odds ratio\n",
    "ci = pass_m3.conf_int()\n",
    "ci['Odds ratio'] = np.exp(pass_m3.params)\n",
    "ci.columns = ['2.5%', '97.5%', 'Odds ratio']\n",
    "print(ci)"
   ]
  }
 ],
 "metadata": {
  "kernelspec": {
   "display_name": "Python 3 (ipykernel)",
   "language": "python",
   "name": "python3"
  },
  "language_info": {
   "codemirror_mode": {
    "name": "ipython",
    "version": 3
   },
   "file_extension": ".py",
   "mimetype": "text/x-python",
   "name": "python",
   "nbconvert_exporter": "python",
   "pygments_lexer": "ipython3",
   "version": "3.10.6"
  }
 },
 "nbformat": 4,
 "nbformat_minor": 5
}
