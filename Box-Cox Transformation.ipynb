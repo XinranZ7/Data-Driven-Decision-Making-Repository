{
 "cells": [
  {
   "cell_type": "code",
   "execution_count": 1,
   "id": "cd29e3a8",
   "metadata": {},
   "outputs": [],
   "source": [
    "import numpy as np\n",
    "import pandas as pd\n",
    "from scipy.stats import skew\n",
    "from sklearn.preprocessing import PowerTransformer"
   ]
  },
  {
   "cell_type": "markdown",
   "id": "5504e5d1",
   "metadata": {},
   "source": [
    "'segmentationOriginal' is the built-in dataset in R. To download the segmentationOriginal dataset, run the following codes in R:\n",
    "\n",
    "data(\"segmentationOriginal\")  \n",
    "write.csv(segmentationOriginal, file = \"segmentationOriginal.csv\", row.names = FALSE)"
   ]
  },
  {
   "cell_type": "code",
   "execution_count": 2,
   "id": "992c2800",
   "metadata": {},
   "outputs": [],
   "source": [
    "# Load the segmentationOriginal dataset\n",
    "segData = pd.read_csv('segmentationOriginal.csv')\n",
    "\n",
    "# Subset the data to include only the \"Train\" cases\n",
    "segData = segData.loc[segData['Case'] == 'Train', :]"
   ]
  },
  {
   "cell_type": "code",
   "execution_count": 3,
   "id": "46959238",
   "metadata": {},
   "outputs": [
    {
     "name": "stdout",
     "output_type": "stream",
     "text": [
      "skewness for AngleCh1 variable: -0.024298630435426752\n"
     ]
    },
    {
     "data": {
      "text/plain": [
       "Cell                 7.922722\n",
       "AngleCh1            -0.024299\n",
       "AngleStatusCh1       0.941238\n",
       "AreaCh1              3.530354\n",
       "AreaStatusCh1        3.064855\n",
       "                       ...   \n",
       "VarIntenStatusCh4    1.388237\n",
       "WidthCh1             1.882883\n",
       "WidthStatusCh1       2.099100\n",
       "XCentroid           -0.105747\n",
       "YCentroid            0.496392\n",
       "Length: 117, dtype: float64"
      ]
     },
     "execution_count": 3,
     "metadata": {},
     "output_type": "execute_result"
    }
   ],
   "source": [
    "# Calculate the skewness of AngleCh1 variable\n",
    "print('skewness for AngleCh1 variable:',skew(segData['AngleCh1']))\n",
    "\n",
    "# Calculate the skewness of numeric variables in the dataset\n",
    "numeric_cols = segData.select_dtypes(include='number').columns\n",
    "segData[numeric_cols].apply(skew)"
   ]
  },
  {
   "cell_type": "code",
   "execution_count": 4,
   "id": "1f519320",
   "metadata": {},
   "outputs": [
    {
     "name": "stdout",
     "output_type": "stream",
     "text": [
      "Skewness before transformation: 2.9635898861967185\n",
      "Skewness after transformation: [0.10063278]\n"
     ]
    }
   ],
   "source": [
    "# Apply the Box-Cox transformation to the AvgIntenCh1 variable\n",
    "chiAreaTrans = PowerTransformer(method='box-cox').fit_transform(segData[['AvgIntenCh1']])\n",
    "\n",
    "# Print the skewness of the AvgIntenCh1 variable\n",
    "print('Skewness before transformation:',skew(segData['AvgIntenCh1']))\n",
    "print('Skewness after transformation:',skew(chiAreaTrans, axis=0))"
   ]
  }
 ],
 "metadata": {
  "kernelspec": {
   "display_name": "Python 3 (ipykernel)",
   "language": "python",
   "name": "python3"
  },
  "language_info": {
   "codemirror_mode": {
    "name": "ipython",
    "version": 3
   },
   "file_extension": ".py",
   "mimetype": "text/x-python",
   "name": "python",
   "nbconvert_exporter": "python",
   "pygments_lexer": "ipython3",
   "version": "3.10.6"
  }
 },
 "nbformat": 4,
 "nbformat_minor": 5
}
